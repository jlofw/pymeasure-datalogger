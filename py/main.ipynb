{
 "cells": [
  {
   "cell_type": "code",
   "execution_count": 1,
   "id": "6650db76",
   "metadata": {},
   "outputs": [
    {
     "name": "stdout",
     "output_type": "stream",
     "text": [
      "port name: COM4\n",
      "baudrate: 115200\n",
      "timeout: 4\n",
      "reading version from AR488:\n",
      ">> \n",
      "current self.gpib address:\n",
      ">> 1\n",
      "\n",
      "setting address to 1\n",
      "new self.gpib address:\n",
      ">> 1\n",
      "\n",
      "assert IFC to make AR488 the controller-in-charge\n",
      "turn on auto 2 mode (auto-read after query)\n",
      "verify auto mode: \n",
      ">> 2\n",
      "\n",
      "get IDN message\n",
      ">> KEITHLEY INSTRUMENTS INC.,MODEL 2000,0643133,A19  /A02  \n",
      "\n",
      "check SCPI version\n",
      ">> 1991.0\n",
      "\n",
      "measure voltage\n"
     ]
    }
   ],
   "source": [
    "from instrument.keithley_2000 import keithley_2000\n",
    "\n",
    "if __name__ == \"__main__\":\n",
    "    # Hello World!\n",
    "    meter = keithley_2000(port='COM4',baudrate=115200,timeout=4)\n",
    "    meter.measure_voltage()\n"
   ]
  },
  {
   "cell_type": "code",
   "execution_count": null,
   "id": "7b1901d1",
   "metadata": {},
   "outputs": [],
   "source": []
  }
 ],
 "metadata": {
  "kernelspec": {
   "display_name": "Python 3 (ipykernel)",
   "language": "python",
   "name": "python3"
  },
  "language_info": {
   "codemirror_mode": {
    "name": "ipython",
    "version": 3
   },
   "file_extension": ".py",
   "mimetype": "text/x-python",
   "name": "python",
   "nbconvert_exporter": "python",
   "pygments_lexer": "ipython3",
   "version": "3.9.7"
  }
 },
 "nbformat": 4,
 "nbformat_minor": 5
}
