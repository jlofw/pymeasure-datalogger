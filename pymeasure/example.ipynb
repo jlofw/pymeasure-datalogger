{
 "cells": [
  {
   "cell_type": "code",
   "execution_count": 1,
   "id": "6d729a2b",
   "metadata": {},
   "outputs": [
    {
     "name": "stdout",
     "output_type": "stream",
     "text": [
      ">> 4e-06\n",
      ">> 4e-06\n",
      ">> 3e-06\n",
      ">> 3e-06\n",
      ">> 2e-06\n"
     ]
    }
   ],
   "source": [
    "from pymeasure.instruments.keithley import Keithley2000\n",
    "from pymeasure.adapters import PrologixAdapter\n",
    "import numpy as np\n",
    "import pandas as pd\n",
    "from time import sleep\n",
    "\n",
    "# Set the input parameters\n",
    "data_points = 5\n",
    "\n",
    "# Connect and configure the instrument\n",
    "adapter = PrologixAdapter(port='COM4',baudrate=115200,serial_timeout=1)\n",
    "sleep(1)\n",
    "meter = Keithley2000(adapter.gpib(1))\n",
    "sleep(1)\n",
    "\n",
    "# Configure measurement\n",
    "meter.measure_voltage(max_voltage=1, ac=False)\n",
    "\n",
    "# Allocate arrays to store the measurement results\n",
    "data = np.zeros(data_points)\n",
    "\n",
    "# Loop through each current point, measure and record\n",
    "for i in range(data_points):\n",
    "    data[i] = meter.voltage\n",
    "    data[i] = np.around(data[i], decimals=6)\n",
    "    print(\">> \" + str(data[i]))\n",
    "\n",
    "# Save the data columns in a CSV file\n",
    "data = pd.DataFrame({\n",
    "    'Voltage (V)': data,\n",
    "})\n",
    "data.to_csv('example.csv')\n",
    "\n",
    "meter.shutdown()"
   ]
  },
  {
   "cell_type": "code",
   "execution_count": null,
   "id": "0d0cc8d4",
   "metadata": {},
   "outputs": [],
   "source": []
  }
 ],
 "metadata": {
  "interpreter": {
   "hash": "ad2bdc8ecc057115af97d19610ffacc2b4e99fae6737bb82f5d7fb13d2f2c186"
  },
  "kernelspec": {
   "display_name": "Python 3.9.7 ('base')",
   "language": "python",
   "name": "python3"
  },
  "language_info": {
   "codemirror_mode": {
    "name": "ipython",
    "version": 3
   },
   "file_extension": ".py",
   "mimetype": "text/x-python",
   "name": "python",
   "nbconvert_exporter": "python",
   "pygments_lexer": "ipython3",
   "version": "3.9.7"
  }
 },
 "nbformat": 4,
 "nbformat_minor": 5
}
